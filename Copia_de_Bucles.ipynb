{
  "nbformat": 4,
  "nbformat_minor": 0,
  "metadata": {
    "colab": {
      "name": "Copia de Bucles.ipynb",
      "provenance": [],
      "collapsed_sections": [],
      "include_colab_link": true
    },
    "kernelspec": {
      "name": "python3",
      "display_name": "Python 3"
    },
    "language_info": {
      "name": "python"
    }
  },
  "cells": [
    {
      "cell_type": "markdown",
      "metadata": {
        "id": "view-in-github",
        "colab_type": "text"
      },
      "source": [
        "<a href=\"https://colab.research.google.com/github/sgtbranca/ISPC/blob/main/Copia_de_Bucles.ipynb\" target=\"_parent\"><img src=\"https://colab.research.google.com/assets/colab-badge.svg\" alt=\"Open In Colab\"/></a>"
      ]
    },
    {
      "cell_type": "markdown",
      "source": [
        "Ejemplo de Bucle **WHILE**"
      ],
      "metadata": {
        "id": "eXGKaPnWyWxk"
      }
    },
    {
      "cell_type": "code",
      "execution_count": null,
      "metadata": {
        "id": "lxGnUoQByTwD",
        "outputId": "e3a79d5b-0746-481c-c6c7-cf4076f11a32",
        "colab": {
          "base_uri": "https://localhost:8080/"
        }
      },
      "outputs": [
        {
          "output_type": "stream",
          "name": "stdout",
          "text": [
            "Tu edad es:  6\n",
            "Tu edad es:  8\n",
            "Tu edad es:  10\n",
            "Tu edad es:  12\n",
            "Tu edad es:  14\n",
            "Tu edad es:  16\n"
          ]
        }
      ],
      "source": [
        "edad = 6\n",
        "while edad<18:\n",
        "  print(\"Tu edad es: \",edad)\n",
        "  edad+=2"
      ]
    },
    {
      "cell_type": "markdown",
      "source": [
        ""
      ],
      "metadata": {
        "id": "Z4acWm45WdP9"
      }
    },
    {
      "cell_type": "markdown",
      "source": [
        "Ingresar 2 números y mostrar aquellos que están comprendidos entre ellos."
      ],
      "metadata": {
        "id": "VRi8QZQUzjwZ"
      }
    },
    {
      "cell_type": "code",
      "source": [
        "inicial=int(input(\"Ingrese valor inicial: \"))\n",
        "final=int(input(\"Ingrese valor final: \"))\n",
        "while inicial-1>final:\n",
        "  inicial-=1\n",
        "  print(\"Número: \",inicial)"
      ],
      "metadata": {
        "id": "QnUKDyF-zgCj",
        "colab": {
          "base_uri": "https://localhost:8080/"
        },
        "outputId": "34c9a34f-bf36-499d-af8a-f3a08492a9cd"
      },
      "execution_count": null,
      "outputs": [
        {
          "output_type": "stream",
          "name": "stdout",
          "text": [
            "Ingrese valor inicial: 9\n",
            "Ingrese valor final: 5\n",
            "Número:  8\n",
            "Número:  7\n",
            "Número:  6\n"
          ]
        }
      ]
    },
    {
      "cell_type": "markdown",
      "source": [
        "Ejemplo de Bucle **WHILE**"
      ],
      "metadata": {
        "id": "5mtpYr5-zalL"
      }
    },
    {
      "cell_type": "markdown",
      "source": [
        "# Nueva sección"
      ],
      "metadata": {
        "id": "IgZsl2MMkKGp"
      }
    },
    {
      "cell_type": "markdown",
      "source": [
        "Ejemplo de bucle **WHILE**"
      ],
      "metadata": {
        "id": "s4vGLgmG08NE"
      }
    },
    {
      "cell_type": "code",
      "source": [
        "print(\"Mostrar los múltiplos de 6 comprendidos\")\n",
        "print(\" entre 12 y 100 incluidos\")\n",
        "multiplo=12\n",
        "while multiplo<100:\n",
        "  print(\"Múltiplo de 6 es: \",multiplo)\n",
        "  multiplo+=6\n",
        "\n"
      ],
      "metadata": {
        "id": "X3WQiApd1C_y",
        "outputId": "c2ae9dd4-cfd2-4949-cc57-4d63e966334b",
        "colab": {
          "base_uri": "https://localhost:8080/"
        }
      },
      "execution_count": null,
      "outputs": [
        {
          "output_type": "stream",
          "name": "stdout",
          "text": [
            "Mostrar los múltiplos de 6 comprendidos\n",
            " entre 12 y 100 incluidos\n",
            "Múltiplo de 6 es:  12\n",
            "Múltiplo de 6 es:  18\n",
            "Múltiplo de 6 es:  24\n",
            "Múltiplo de 6 es:  30\n",
            "Múltiplo de 6 es:  36\n",
            "Múltiplo de 6 es:  42\n",
            "Múltiplo de 6 es:  48\n",
            "Múltiplo de 6 es:  54\n",
            "Múltiplo de 6 es:  60\n",
            "Múltiplo de 6 es:  66\n",
            "Múltiplo de 6 es:  72\n",
            "Múltiplo de 6 es:  78\n",
            "Múltiplo de 6 es:  84\n",
            "Múltiplo de 6 es:  90\n",
            "Múltiplo de 6 es:  96\n"
          ]
        }
      ]
    },
    {
      "cell_type": "markdown",
      "source": [
        "Ejemplo bucle infinito con True"
      ],
      "metadata": {
        "id": "mnWQZ7F03Zrb"
      }
    },
    {
      "cell_type": "code",
      "source": [
        "while True:\n",
        "  entrada=input(\"-> \")\n",
        "  if entrada==\"salir\":\n",
        "    print(\"Fin de programa\")\n",
        "    break\n",
        "  else:\n",
        "    print(entrada)"
      ],
      "metadata": {
        "id": "qJVd5ZN33dVi",
        "colab": {
          "base_uri": "https://localhost:8080/"
        },
        "outputId": "e3a89664-82ba-482a-dfae-f9cc64a9d5e5"
      },
      "execution_count": null,
      "outputs": [
        {
          "output_type": "stream",
          "name": "stdout",
          "text": [
            "-> 9\n",
            "9\n",
            "-> 5\n",
            "5\n",
            "-> j\n",
            "j\n",
            "-> salir\n",
            "Fin de programa\n"
          ]
        }
      ]
    },
    {
      "cell_type": "markdown",
      "source": [
        "Recorrer una lista con **WHILE**"
      ],
      "metadata": {
        "id": "wM0neueo5RFk"
      }
    },
    {
      "cell_type": "code",
      "source": [
        "deportes=[\"Tenis\",\"Basquet\",\"Ping Pong\",\"Futbol\",\"Volley\"]\n",
        "i= 0\n",
        "while i <len(deportes):\n",
        "  print(i)\n",
        "  i+=1\n"
      ],
      "metadata": {
        "id": "njMYluer5U72",
        "colab": {
          "base_uri": "https://localhost:8080/"
        },
        "outputId": "62f22189-e863-4a41-ab15-59a7053c47e0"
      },
      "execution_count": null,
      "outputs": [
        {
          "output_type": "stream",
          "name": "stdout",
          "text": [
            "0\n",
            "1\n",
            "2\n",
            "3\n",
            "4\n"
          ]
        }
      ]
    },
    {
      "cell_type": "markdown",
      "source": [
        "Ejemplo de bucle **FOR**"
      ],
      "metadata": {
        "id": "2SlRjpbz755j"
      }
    },
    {
      "cell_type": "markdown",
      "source": [
        "¿Qué almacena la variable i?\n",
        "¿Cuántas veces se repite el ciclo for?"
      ],
      "metadata": {
        "id": "TZ8k_zdbvXfU"
      }
    },
    {
      "cell_type": "code",
      "source": [
        "deportes=[\"Tenis\",\"Basquet\",\"Ping Pong\",\"Futbol\"]\n",
        "for i in deportes:\n",
        "  print(deportes)"
      ],
      "metadata": {
        "id": "_VUTeRtD76K2",
        "colab": {
          "base_uri": "https://localhost:8080/"
        },
        "outputId": "02ece68a-b071-4ed9-a8ed-7fe5ab1dee7a"
      },
      "execution_count": null,
      "outputs": [
        {
          "output_type": "stream",
          "name": "stdout",
          "text": [
            "['Tenis', 'Basquet', 'Ping Pong', 'Futbol']\n",
            "['Tenis', 'Basquet', 'Ping Pong', 'Futbol']\n",
            "['Tenis', 'Basquet', 'Ping Pong', 'Futbol']\n",
            "['Tenis', 'Basquet', 'Ping Pong', 'Futbol']\n"
          ]
        }
      ]
    },
    {
      "cell_type": "code",
      "source": [
        "for i in (\"Tenis\",\"Basquet\",\"Ping Pong\",\"Futbol\"):\n",
        "  print(i)"
      ],
      "metadata": {
        "id": "4zYQryrP_Hg1",
        "colab": {
          "base_uri": "https://localhost:8080/"
        },
        "outputId": "b73b9979-ca70-40c9-cb7a-d03cfbeb8874"
      },
      "execution_count": null,
      "outputs": [
        {
          "output_type": "stream",
          "name": "stdout",
          "text": [
            "Tenis\n",
            "Basquet\n",
            "Ping Pong\n",
            "Futbol\n"
          ]
        }
      ]
    },
    {
      "cell_type": "markdown",
      "source": [
        "Otros ejemplos con for"
      ],
      "metadata": {
        "id": "b0gL9BBLuV-G"
      }
    },
    {
      "cell_type": "code",
      "source": [
        "email=False\n",
        "for i in \"jlopezvalente@ispc.com.ar\":\n",
        "  if i==\"@\":\n",
        "    email=True\n",
        "    \n",
        "if email==True:\n",
        "  print(\"Email correcto\")\n",
        "else:\n",
        "  print(\"Email incorrecto\")\n",
        "\n"
      ],
      "metadata": {
        "id": "2UsHWq0hudlu",
        "colab": {
          "base_uri": "https://localhost:8080/"
        },
        "outputId": "06f2c07a-76e8-48a2-80ae-817df90fedbb"
      },
      "execution_count": null,
      "outputs": [
        {
          "output_type": "stream",
          "name": "stdout",
          "text": [
            "Email correcto\n"
          ]
        }
      ]
    },
    {
      "cell_type": "code",
      "source": [
        "mail=\"jlopezvalente@ispc.com.ar\"\n",
        "indice=0\n",
        "for i in mail:\n",
        "  print(mail[indice])\n",
        "  indice+=1"
      ],
      "metadata": {
        "id": "uJ2JEZpdlm_w",
        "colab": {
          "base_uri": "https://localhost:8080/"
        },
        "outputId": "2d7c7a65-1dca-4d7d-98b3-347c0ef9d651"
      },
      "execution_count": null,
      "outputs": [
        {
          "output_type": "stream",
          "name": "stdout",
          "text": [
            "j\n",
            "l\n",
            "o\n",
            "p\n",
            "e\n",
            "z\n",
            "v\n",
            "a\n",
            "l\n",
            "e\n",
            "n\n",
            "t\n",
            "e\n",
            "@\n",
            "i\n",
            "s\n",
            "p\n",
            "c\n",
            ".\n",
            "c\n",
            "o\n",
            "m\n",
            ".\n",
            "a\n",
            "r\n"
          ]
        }
      ]
    },
    {
      "cell_type": "markdown",
      "source": [
        "Uso de **RANGE**"
      ],
      "metadata": {
        "id": "n2y5iGf_xGPi"
      }
    },
    {
      "cell_type": "code",
      "source": [
        "indice=[\"Tenis\",\"Basquet\",\"Ping Pong\",\"Futbol\"]\n",
        "for i in range(len(indice)):\n",
        "  print(f\"El valor de i es : {i}\")"
      ],
      "metadata": {
        "id": "YgLk_cn6xIP7",
        "colab": {
          "base_uri": "https://localhost:8080/"
        },
        "outputId": "78da4d93-7725-463d-c2f3-e28a4bd840a1"
      },
      "execution_count": null,
      "outputs": [
        {
          "output_type": "stream",
          "name": "stdout",
          "text": [
            "El valor de i es : 0\n",
            "El valor de i es : 1\n",
            "El valor de i es : 2\n",
            "El valor de i es : 3\n"
          ]
        }
      ]
    },
    {
      "cell_type": "code",
      "source": [
        "for i in range(7,13):\n",
        "  print(f\"El valor de i es : {i}\")"
      ],
      "metadata": {
        "id": "fYZiBndWyK_Q",
        "colab": {
          "base_uri": "https://localhost:8080/"
        },
        "outputId": "9f1b59b8-183d-4832-c8cb-270305805b09"
      },
      "execution_count": null,
      "outputs": [
        {
          "output_type": "stream",
          "name": "stdout",
          "text": [
            "El valor de i es : 7\n",
            "El valor de i es : 8\n",
            "El valor de i es : 9\n",
            "El valor de i es : 10\n",
            "El valor de i es : 11\n",
            "El valor de i es : 12\n"
          ]
        }
      ]
    },
    {
      "cell_type": "markdown",
      "source": [
        "Que sucede si ejecutamos con los valores de **range** de manera inversa"
      ],
      "metadata": {
        "id": "kOABz-Sw0qlx"
      }
    },
    {
      "cell_type": "code",
      "source": [
        "for i in range(13,7):\n",
        "  print(f\"El valor de i es : {i}\")"
      ],
      "metadata": {
        "id": "uk2BY0ZRz-ad"
      },
      "execution_count": null,
      "outputs": []
    },
    {
      "cell_type": "code",
      "source": [
        "for i in range(50,-22,-7):\n",
        "  print(f\"El valor de i es : {i}\")"
      ],
      "metadata": {
        "id": "90YguNnbzkCa",
        "colab": {
          "base_uri": "https://localhost:8080/"
        },
        "outputId": "9e8d6611-8cbb-4846-f4dd-2c8a403d2644"
      },
      "execution_count": null,
      "outputs": [
        {
          "output_type": "stream",
          "name": "stdout",
          "text": [
            "El valor de i es : 50\n",
            "El valor de i es : 43\n",
            "El valor de i es : 36\n",
            "El valor de i es : 29\n",
            "El valor de i es : 22\n",
            "El valor de i es : 15\n",
            "El valor de i es : 8\n",
            "El valor de i es : 1\n",
            "El valor de i es : -6\n",
            "El valor de i es : -13\n",
            "El valor de i es : -20\n"
          ]
        }
      ]
    },
    {
      "cell_type": "markdown",
      "source": [
        "Que sucede si ejecutamos con los valores de **range** de manera inversa"
      ],
      "metadata": {
        "id": "8WSkEg4800xe"
      }
    },
    {
      "cell_type": "code",
      "source": [
        "for i in range(50,2,7):\n",
        "  print(f\"El valor de i es : {i}\")"
      ],
      "metadata": {
        "id": "0PlhTQcy0aXz"
      },
      "execution_count": null,
      "outputs": []
    },
    {
      "cell_type": "code",
      "source": [
        "from collections import deque\n",
        "turno= deque ([\"0\",\"X\"])\n",
        "tablero= [\n",
        "          [\" \",\" \",\" \"],\n",
        "          [\" \",\" \",\" \"],\n",
        "          [\" \",\" \",\" \"]\n",
        "          ]\n",
        "\n",
        "def mostrar_tablero():\n",
        "      print (\" \")\n",
        "      for fila in tablero:\n",
        "          print (fila)\n",
        "\n",
        "def juego ():\n",
        "  mostrar_tablero()\n",
        "  jugador = rotar_turno()\n",
        "  while True:\n",
        "          posicion = input (\"Juega X. Elige una posicion fila, columna de 1a 3\")\n",
        "          if posicion == 'salir':\n",
        "            break\n",
        "\n"
      ],
      "metadata": {
        "id": "4qUj-b2Q5qgE"
      },
      "execution_count": null,
      "outputs": []
    },
    {
      "cell_type": "code",
      "source": [
        ""
      ],
      "metadata": {
        "id": "JD9MjQWyp7ga"
      },
      "execution_count": null,
      "outputs": []
    }
  ]
}